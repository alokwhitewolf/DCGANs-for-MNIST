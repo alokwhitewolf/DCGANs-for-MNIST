{
 "cells": [
  {
   "cell_type": "code",
   "execution_count": 0,
   "metadata": {
    "colab": {
     "autoexec": {
      "startup": false,
      "wait_interval": 0
     }
    },
    "colab_type": "code",
    "id": "OuLUVIVDN9Kn"
   },
   "outputs": [],
   "source": [
    "import argparse\n",
    "\n",
    "import numpy as np\n",
    "import chainer\n",
    "from chainer import cuda, Function, gradient_check, report, training, utils, Variable\n",
    "from chainer import datasets, iterators, optimizers, serializers, reporter\n",
    "from chainer import Link, Chain, ChainList\n",
    "from chainer.dataset import convert\n",
    "from chainer.dataset import iterator as iterator_module\n",
    "import chainer.functions as F\n",
    "import chainer.links as L\n",
    "from chainer.training import extensions\n",
    "\n",
    "from scipy.misc import imsave\n",
    "\n",
    "\n"
   ]
  },
  {
   "cell_type": "code",
   "execution_count": 0,
   "metadata": {
    "colab": {
     "autoexec": {
      "startup": false,
      "wait_interval": 0
     }
    },
    "colab_type": "code",
    "id": "pyJ4tqb5dPWZ"
   },
   "outputs": [],
   "source": [
    "class Generator(Chain):\n",
    "\n",
    "    def __init__(self, z_dim):\n",
    "        super(Generator, self).__init__(\n",
    "            # in_ch,out_ch,ksize,stride,pad\n",
    "            l1=L.Deconvolution2D(z_dim, 128, 3, 2, 0),\n",
    "            bn1=L.BatchNormalization(128),\n",
    "            l2=L.Deconvolution2D(128, 128, 3, 2, 1),\n",
    "            bn2=L.BatchNormalization(128),\n",
    "            l3=L.Deconvolution2D(128, 128, 3, 2, 1),\n",
    "            bn3=L.BatchNormalization(128),\n",
    "            l4=L.Deconvolution2D(128, 128, 3, 2, 2),\n",
    "            bn4=L.BatchNormalization(128),\n",
    "            l5=L.Deconvolution2D(128, 1, 3, 2, 2, outsize=(28, 28)),\n",
    "        )\n",
    "        self.train = chainer.using_config('train', True)\n",
    "\n",
    "    def __call__(self, z):\n",
    "        h = self.bn1(F.relu(self.l1(z)))\n",
    "        h = self.bn2(F.relu(self.l2(h)))\n",
    "        h = self.bn3(F.relu(self.l3(h)))\n",
    "        h = self.bn4(F.relu(self.l4(h)))\n",
    "        x = F.sigmoid(self.l5(h))\n",
    "        return x\n",
    "\n",
    "\n"
   ]
  },
  {
   "cell_type": "code",
   "execution_count": 0,
   "metadata": {
    "colab": {
     "autoexec": {
      "startup": false,
      "wait_interval": 0
     }
    },
    "colab_type": "code",
    "id": "bB6Eab0NdaF3"
   },
   "outputs": [],
   "source": [
    "class Discriminator(Chain):\n",
    "\n",
    "    def __init__(self):\n",
    "        super(Discriminator, self).__init__(\n",
    "            # in_ch,out_ch,ksize,stride,pad\n",
    "            l1=L.Convolution2D(None, 32, 3, 2, 1),\n",
    "            bn1=L.BatchNormalization(32),\n",
    "            l2=L.Convolution2D(None, 32, 3, 2, 2),\n",
    "            bn2=L.BatchNormalization(32),\n",
    "            l3=L.Convolution2D(None, 32, 3, 2, 1),\n",
    "            bn3=L.BatchNormalization(32),\n",
    "            l4=L.Convolution2D(None, 32, 3, 2, 1),\n",
    "            bn4=L.BatchNormalization(32),\n",
    "            l5=L.Convolution2D(None, 1, 3, 2, 1),\n",
    "        )\n",
    "        self.train = True\n",
    "\n",
    "    def __call__(self, x):\n",
    "        h = self.bn1(F.leaky_relu(self.l1(x)))\n",
    "        h = self.bn2(F.leaky_relu(self.l2(h)))\n",
    "        h = self.bn3(F.leaky_relu(self.l3(h)))\n",
    "        h = self.bn4(F.leaky_relu(self.l4(h)))\n",
    "        y = self.l5(h)\n",
    "        return y\n",
    "\n",
    "\n"
   ]
  },
  {
   "cell_type": "code",
   "execution_count": 0,
   "metadata": {
    "colab": {
     "autoexec": {
      "startup": false,
      "wait_interval": 0
     }
    },
    "colab_type": "code",
    "id": "CrpaFGFBdyH2"
   },
   "outputs": [],
   "source": [
    "class GAN_Updater(training.StandardUpdater):\n",
    "\n",
    "    def __init__(self, iterator, generator, discriminator, optimizers,\n",
    "                 converter=convert.concat_examples, device=None, z_dim=2,):\n",
    "        if isinstance(iterator, iterator_module.Iterator):\n",
    "            iterator = {'main': iterator}\n",
    "        self._iterators = iterator\n",
    "        self.gen = generator\n",
    "        self.dis = discriminator\n",
    "        self._optimizers = optimizers\n",
    "        self.converter = converter\n",
    "        self.device = device\n",
    "\n",
    "        self.iteration = 0\n",
    "\n",
    "        self.z_dim = z_dim\n",
    "\n",
    "    def update_core(self):\n",
    "        batch = self._iterators['main'].next()\n",
    "        in_arrays = self.converter(batch, self.device)\n",
    "        x_data = in_arrays\n",
    "\n",
    "        batchsize = x_data.shape[0]\n",
    "        z = Variable(cuda.cupy.random.normal(\n",
    "            size=(batchsize, self.z_dim, 1, 1), dtype=np.float32))\n",
    "        global x_gen\n",
    "        x_gen = self.gen(z)\n",
    "\n",
    "        # concatしないままdisに通すと、bnが悪さをする\n",
    "        x = F.concat((x_gen, x_data), 0)\n",
    "        y = self.dis(x)\n",
    "        y_gen, y_data = F.split_axis(y, 2, 0)\n",
    "\n",
    "        # sigmoid_cross_entropy(x, 0) == softplus(x)\n",
    "        # sigmoid_cross_entropy(x, 1) == softplus(-x)\n",
    "        loss_gen = F.sum(F.softplus(-y_gen))\n",
    "        loss_data = F.sum(F.softplus(y_data))\n",
    "        loss = (loss_gen + loss_data) / batchsize\n",
    "\n",
    "        for optimizer in self._optimizers.values():\n",
    "            optimizer.target.cleargrads()\n",
    "\n",
    "        # compute gradients all at once\n",
    "        loss.backward()\n",
    "\n",
    "        for optimizer in self._optimizers.values():\n",
    "            optimizer.update()\n",
    "\n",
    "        reporter.report(\n",
    "            {'loss': loss,\n",
    "             'loss_gen': loss_gen / batchsize,\n",
    "             'loss_data': loss_data / batchsize})\n",
    "\n",
    "\n"
   ]
  },
  {
   "cell_type": "code",
   "execution_count": 0,
   "metadata": {
    "colab": {
     "autoexec": {
      "startup": false,
      "wait_interval": 0
     }
    },
    "colab_type": "code",
    "id": "5ivGqTuod6yp"
   },
   "outputs": [],
   "source": [
    "def save_x(x_gen, filename):\n",
    "    x_gen_img = cuda.to_cpu(x_gen.data)\n",
    "    n = x_gen_img.shape[0]\n",
    "    n = n // 15 * 15\n",
    "    x_gen_img = x_gen_img[:n]\n",
    "    x_gen_img = x_gen_img.reshape(\n",
    "        15, -1, 28, 28).transpose(1, 2, 0, 3).reshape(-1, 15 * 28)\n",
    "    imsave(filename, x_gen_img)\n",
    "    \n",
    "def save_example(trainer):\n",
    "    snapshots.append(trainer.updater.gen(fixed_z))\n",
    "    \n",
    "def save_images():\n",
    "  count = 0\n",
    "  for i in snapshots:\n",
    "    count += 1\n",
    "    save_x(i, 'timeline/pictures/epoch'+str(count)+'.png')\n",
    "\n",
    "\n"
   ]
  },
  {
   "cell_type": "code",
   "execution_count": 0,
   "metadata": {
    "colab": {
     "autoexec": {
      "startup": false,
      "wait_interval": 0
     }
    },
    "colab_type": "code",
    "id": "nKHix61jd9b3"
   },
   "outputs": [],
   "source": [
    "def main(z_dim=2, gpu=0, nb_epoch=30, batchsize=64):\n",
    "\n",
    "    \"\"\"\n",
    "    print('GPU: {}'.format(args.gpu))\n",
    "    print('# z_dim: {}'.format(args.z_dim))\n",
    "    print('# Minibatch-size: {}'.format(args.batchsize))\n",
    "    print('# epoch: {}'.format(args.epoch))\n",
    "    print('')\n",
    "    \"\"\"\n",
    "    global snapshots\n",
    "    snapshots = []\n",
    "    global fixed_z\n",
    "    fixed_z = Variable(cuda.cupy.random.normal(\n",
    "            size=(batchsize, z_dim, 1, 1), dtype=np.float32))\n",
    "\n",
    "    gen = Generator(2)\n",
    "    dis = Discriminator()\n",
    "    gen.to_gpu()\n",
    "    dis.to_gpu()\n",
    "\n",
    "    opt = {'gen': optimizers.Adam(alpha=-0.001, beta1=0.5),  # alphaの符号が重要\n",
    "           'dis': optimizers.Adam(alpha=0.001, beta1=0.5)}\n",
    "    opt['gen'].setup(gen)\n",
    "    opt['dis'].setup(dis)\n",
    "\n",
    "    train, test = datasets.get_mnist(withlabel=False, ndim=3)\n",
    "\n",
    "    train_iter = iterators.SerialIterator(train, batch_size=200)\n",
    "\n",
    "    updater = GAN_Updater(train_iter, gen, dis, opt,\n",
    "                          device=gpu, z_dim=2)\n",
    "    trainer = training.Trainer(updater, (nb_epoch, 'epoch'), out='result')\n",
    "\n",
    "    trainer.extend(extensions.LogReport())\n",
    "    trainer.extend(extensions.snapshot(), trigger=(30, 'epoch'))\n",
    "    trainer.extend(extensions.PlotReport(['loss_gen', 'loss_data'], file_name='loss.png',))\n",
    "    trainer.extend(extensions.PrintReport(\n",
    "        ['epoch', 'loss', 'loss_gen', 'loss_data']))\n",
    "    trainer.extend(save_example, trigger=(1, 'epoch'))\n",
    "    \n",
    "    #trainer.extend(extensions.ProgressBar(update_interval=100))\n",
    "\n",
    "    if '':\n",
    "        # Resume from a snapshot\n",
    "        chainer.serializers.load_npz('', trainer)\n",
    "\n",
    "    trainer.run()\n",
    "    save_images()\n",
    "    \n",
    "\n",
    "    "
   ]
  },
  {
   "cell_type": "code",
   "execution_count": 78,
   "metadata": {
    "colab": {
     "autoexec": {
      "startup": false,
      "wait_interval": 0
     },
     "base_uri": "https://localhost:8080/",
     "height": 544,
     "output_extras": [
      {
       "item_id": 31
      }
     ]
    },
    "colab_type": "code",
    "executionInfo": {
     "elapsed": 458959,
     "status": "ok",
     "timestamp": 1520733318675,
     "user": {
      "displayName": "Alok Bishoyi",
      "photoUrl": "//lh5.googleusercontent.com/-laHHpX5_hlY/AAAAAAAAAAI/AAAAAAAAAJ8/p_ZIeAuApPk/s50-c-k-no/photo.jpg",
      "userId": "101404215883860411191"
     },
     "user_tz": -330
    },
    "id": "P1X2Dns3sBbn",
    "outputId": "cc0922fb-0a98-497c-a041-e841e4d9d7b2"
   },
   "outputs": [
    {
     "name": "stdout",
     "output_type": "stream",
     "text": [
      "epoch       loss        loss_gen    loss_data \n",
      "\u001b[J1           1.22873     0.701407    0.52732     \n",
      "\u001b[J2           1.03184     0.527082    0.504759    \n",
      "\u001b[J3           0.800337    0.395721    0.404615    \n",
      "\u001b[J4           0.702052    0.337219    0.364833    \n",
      "\u001b[J5           0.859973    0.408609    0.451365    \n",
      "\u001b[J6           0.955718    0.457965    0.497753    \n",
      "\u001b[J7           1.03378     0.495346    0.538436    \n",
      "\u001b[J8           0.950061    0.450014    0.500048    \n",
      "\u001b[J9           1.04263     0.496393    0.546242    \n",
      "\u001b[J10          1.04526     0.493772    0.551493    \n",
      "\u001b[J11          1.07545     0.514326    0.561121    \n",
      "\u001b[J12          1.08063     0.517324    0.563301    \n",
      "\u001b[J13          1.01669     0.481861    0.534827    \n",
      "\u001b[J14          0.914082    0.431521    0.482561    \n",
      "\u001b[J15          0.862713    0.400382    0.462331    \n",
      "\u001b[J16          0.842553    0.39064     0.451914    \n",
      "\u001b[J17          0.792323    0.362424    0.429898    \n",
      "\u001b[J18          0.769924    0.353797    0.416128    \n",
      "\u001b[J19          0.808748    0.371808    0.43694     \n",
      "\u001b[J20          0.715995    0.322353    0.393642    \n",
      "\u001b[J21          0.767197    0.347863    0.419334    \n",
      "\u001b[J22          0.782448    0.352471    0.429977    \n",
      "\u001b[J23          0.744326    0.335536    0.40879     \n",
      "\u001b[J24          0.755229    0.337161    0.418069    \n",
      "\u001b[J25          0.753694    0.337885    0.415809    \n",
      "\u001b[J26          0.716862    0.318282    0.398581    \n",
      "\u001b[J27          0.716594    0.318354    0.398241    \n",
      "\u001b[J28          0.685544    0.299237    0.386308    \n",
      "\u001b[J29          0.663883    0.292082    0.3718      \n",
      "\u001b[J30          0.679062    0.296566    0.382496    \n"
     ]
    }
   ],
   "source": [
    "main()"
   ]
  }
 ],
 "metadata": {
  "accelerator": "GPU",
  "colab": {
   "default_view": {},
   "name": "GAN.ipynb",
   "provenance": [],
   "version": "0.3.2",
   "views": {}
  },
  "kernelspec": {
   "display_name": "Python 3",
   "language": "python",
   "name": "python3"
  },
  "language_info": {
   "codemirror_mode": {
    "name": "ipython",
    "version": 3
   },
   "file_extension": ".py",
   "mimetype": "text/x-python",
   "name": "python",
   "nbconvert_exporter": "python",
   "pygments_lexer": "ipython3",
   "version": "3.5.2"
  }
 },
 "nbformat": 4,
 "nbformat_minor": 1
}
